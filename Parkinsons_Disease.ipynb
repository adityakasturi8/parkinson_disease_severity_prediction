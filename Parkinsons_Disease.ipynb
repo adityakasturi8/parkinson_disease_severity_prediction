{
 "cells": [
  {
   "cell_type": "markdown",
   "metadata": {},
   "source": [
    "# Table of Contents\n",
    "<a id=\"toc\"></a>\n",
    "- [1.Introduction](#1)\n",
    "- [2. UPDRS](#2)"
   ]
  },
  {
   "cell_type": "markdown",
   "metadata": {},
   "source": [
    "<a id=\"1\"></a>\n",
    "# **<center><span style=\"color:#00BFC1;\">Introduction</span></center>**"
   ]
  },
  {
   "cell_type": "markdown",
   "metadata": {},
   "source": [
    "* Parkinson Disease is the second most common neurodegenrative disease after Alzheimer's disease.\n",
    "* Parkinson's disease (PD) is a type of movement or non movement disorder.\n",
    "* It happens when nerve cells in the brain don't produce enough of a brain chemical called dopamine.\n",
    "* There is no specific test for PD, so it can be difficult to diagnose. \n",
    "* Doctors use a medical history and a neurological examination to diagnose it."
   ]
  },
  {
   "cell_type": "markdown",
   "metadata": {},
   "source": [
    "<a id=\"2\"></a>\n",
    "# **<center><span style=\"color:#00BFC1;\">UPDRS</span></center>**"
   ]
  },
  {
   "cell_type": "markdown",
   "metadata": {},
   "source": [
    "* The UPDRS scale refers to Unified Parkinson Disease Rating Scale, and it is a rating tool used to gauge the course of Parkinson’s disease in patients. \n",
    "* The UPDRS scale has been modified over the years by several medical organizations, and continues to be one of the bases of treatment and research in PD clinics. \n",
    "* The UPDRS scale includes series of ratings for typical Parkinson’s symptoms that cover all of the movement hindrances of Parkinson’s disease.\n",
    "* The UPDRS scale consists of mainly 3 segments:\n",
    "    1. Mentation, Behavior and Mood\n",
    "    2. Activities of Daily Living (ADL)\n",
    "    3. Motor\n",
    "        \n",
    "* Vocal impairment is one of the most important signs of PD since it is seen in approximately 90% of the patients in the earlier stages of the disease\n",
    "* Parkinson Disease tele-monitoring studies based on speech recordings of PD patients aim to map the vocal features to a clinical evaluation system used to describe how the signs of Parkinson's disease progress.\n",
    "* UPDRS is the most widely used scale, many researches are trying to estimate the whole or a part of the UPDRS score using data that is retrieved by teleprocessing. \n",
    "* The effect of speech shows up in two components: primarily in the 5th section of component 2 for assessing whether the patient’s vocal output is apprehensible and secondly in the 18th section of component 3 for evaluating whether the patient’s vocal output is expressive during a conversation.\n",
    "* tele-monitoring of signs can complement traditional clinical examinations and decrease the number of physical visits to clinics.\n",
    "* The PD patients were monitored for a six-month period, and remained un-medicated during the duration of the study.\n",
    "* The voice recordings of the subjects were obtained at weekly intervals for the six-month duration of the study whereas motor and total UPDRS were assessed only three times by the medical staff: at baseline (onset of trial), and after three and six months.\n",
    "* The missing weekly UPDRS estimates corresponding to the weekly voice recordings were obtained using linear interpolation.\n",
    "* During the six months data collection period, in each trial, six sustained phonations of the vowel /a/ were recorded summing up to 5875 voice recordings.\n",
    "\n",
    "Erdogdu Sakar B, Serbes G, Sakar CO\n",
    "(2017) Analyzing the effectiveness of vocal features\n",
    "in early telediagnosis of Parkinson’s disease. PLoS\n",
    "ONE 12(8): e0182428. https://doi.org/10.1371/\n",
    "journal.pone.0182428\n",
    "\n",
    "https://journals.plos.org/plosone/article/figure?id=10.1371/journal.pone.0182428.t001\n",
    "    "
   ]
  },
  {
   "cell_type": "markdown",
   "metadata": {},
   "source": [
    "<a id=\"2\"></a>\n",
    "# **<center><span style=\"color:#00BFC1;\">Dataset Description</span></center>**"
   ]
  },
  {
   "cell_type": "markdown",
   "metadata": {},
   "source": [
    "Features Include Subject Age, Gender, Time Interval from baseline recruitment date and 16 other biomedical voice measurements using Telemonitoring Device.\n",
    "\n",
    "![Dataset](./Dataset.png)"
   ]
  },
  {
   "cell_type": "markdown",
   "metadata": {},
   "source": []
  },
  {
   "cell_type": "markdown",
   "metadata": {},
   "source": [
    "## Importing Modules"
   ]
  },
  {
   "cell_type": "code",
   "execution_count": null,
   "metadata": {
    "ExecuteTime": {
     "end_time": "2022-04-29T23:33:09.475957Z",
     "start_time": "2022-04-29T23:33:09.467978Z"
    }
   },
   "outputs": [],
   "source": [
    "import pandas as pd\n",
    "import numpy as np\n",
    "import seaborn as sns\n",
    "import plotly.express as px\n",
    "from pandas_profiling import ProfileReport\n",
    "from sklearn.model_selection import train_test_split\n",
    "from sklearn.preprocessing import StandardScaler\n",
    "import matplotlib.pyplot as plt\n",
    "import warnings\n",
    "\n",
    "from time import time\n",
    "from sklearn.preprocessing import StandardScaler\n",
    "from sklearn.linear_model import LinearRegression, SGDRegressor, Lasso, ElasticNet\n",
    "from sklearn.model_selection import train_test_split\n",
    "from sklearn.model_selection import GridSearchCV\n",
    "from sklearn.metrics import mean_squared_error, r2_score,mean_absolute_error,explained_variance_score\n",
    "from sklearn.decomposition import PCA\n",
    "from sklearn.svm import SVR\n",
    "from sklearn.pipeline import Pipeline\n",
    "from sklearn.tree import DecisionTreeRegressor\n",
    "from sklearn.neighbors import KNeighborsRegressor\n",
    "from sklearn.ensemble import RandomForestRegressor, ExtraTreesRegressor, GradientBoostingRegressor\n",
    "from sklearn.decomposition import PCA\n",
    "\n",
    "%matplotlib inline\n",
    "warnings.filterwarnings('ignore')\n",
    "pd.set_option(\"display.precision\", 8)\n",
    "\n",
    "FIGURESIZE=(20,15)\n",
    "FONTSIZE=12\n",
    "plt.rcParams['figure.figsize'] = FIGURESIZE\n",
    "plt.rcParams['font.size'] = FONTSIZE\n",
    "plt.rcParams['xtick.labelsize'] = FONTSIZE\n",
    "plt.rcParams['ytick.labelsize'] = FONTSIZE\n",
    "scaler = StandardScaler()"
   ]
  },
  {
   "cell_type": "code",
   "execution_count": null,
   "metadata": {
    "ExecuteTime": {
     "end_time": "2022-04-29T23:33:11.099958Z",
     "start_time": "2022-04-29T23:33:09.767955Z"
    },
    "scrolled": true
   },
   "outputs": [],
   "source": [
    "data = pd.read_csv('parkinsons_updrs.csv.data')\n",
    "data.head()"
   ]
  },
  {
   "cell_type": "markdown",
   "metadata": {},
   "source": [
    "### Split Data to Train and Test"
   ]
  },
  {
   "cell_type": "code",
   "execution_count": null,
   "metadata": {
    "ExecuteTime": {
     "end_time": "2022-04-29T23:38:57.704121Z",
     "start_time": "2022-04-29T23:38:57.700129Z"
    }
   },
   "outputs": [],
   "source": [
    "def split_data(data):\n",
    "    train, test = train_test_split(data, test_size=0.3, random_state=42)\n",
    "    return train, test"
   ]
  },
  {
   "cell_type": "markdown",
   "metadata": {},
   "source": [
    "### Dropping rows where test_time is Negative"
   ]
  },
  {
   "cell_type": "code",
   "execution_count": null,
   "metadata": {
    "ExecuteTime": {
     "end_time": "2022-04-30T01:44:46.561793Z",
     "start_time": "2022-04-30T01:44:46.542788Z"
    },
    "scrolled": true
   },
   "outputs": [],
   "source": [
    "def clean_data(data):\n",
    "    \n",
    "    # Drop rows where test time is negative\n",
    "    data = data[data['test_time']>0]\n",
    "    \n",
    "    # Convert subject#, sex to categorical type\n",
    "    data[['subject#','sex']] = data[['subject#','sex']].astype(\"category\")\n",
    "    \n",
    "    # set subject# as index\n",
    "    data.set_index('subject#')\n",
    "    return data"
   ]
  },
  {
   "cell_type": "code",
   "execution_count": null,
   "metadata": {
    "ExecuteTime": {
     "end_time": "2022-04-30T01:44:47.127336Z",
     "start_time": "2022-04-30T01:44:47.020679Z"
    }
   },
   "outputs": [],
   "source": [
    "# Plot pie chart for gender\n",
    "data.groupby('sex').size().plot(kind='pie', autopct='%.2f',labels=['Male','Female'], label=\"\")"
   ]
  },
  {
   "cell_type": "code",
   "execution_count": null,
   "metadata": {
    "ExecuteTime": {
     "end_time": "2022-04-30T01:44:49.906368Z",
     "start_time": "2022-04-30T01:44:49.755663Z"
    }
   },
   "outputs": [],
   "source": [
    "#plot age distribution\n",
    "data.age.plot.hist(bins=20,legend=True)"
   ]
  },
  {
   "cell_type": "code",
   "execution_count": null,
   "metadata": {},
   "outputs": [],
   "source": [
    "data.total_UPDRS.plot.hist(bins=20,legend=True,label='Total UPDRS')\n",
    "plt.savefig('hist_Total_UPDRS.png')"
   ]
  },
  {
   "cell_type": "code",
   "execution_count": null,
   "metadata": {},
   "outputs": [],
   "source": [
    "data.motor_UPDRS.plot.hist(bins=20,legend=True,label='Motor UPDRS')\n",
    "plt.savefig('hist_motor_UPDRS.png')"
   ]
  },
  {
   "cell_type": "markdown",
   "metadata": {},
   "source": [
    "### Generate Profile Report with Various Analysis"
   ]
  },
  {
   "cell_type": "code",
   "execution_count": null,
   "metadata": {
    "ExecuteTime": {
     "end_time": "2022-04-30T01:44:51.036163Z",
     "start_time": "2022-04-30T01:44:51.031162Z"
    }
   },
   "outputs": [],
   "source": [
    "def save_profile_report(data, path='EDA.html'):\n",
    "    ProfileReport(data).to_file(path)"
   ]
  },
  {
   "cell_type": "code",
   "execution_count": null,
   "metadata": {
    "execution": {
     "iopub.execute_input": "2022-04-18T23:40:34.513842Z",
     "iopub.status.busy": "2022-04-18T23:40:34.513482Z",
     "iopub.status.idle": "2022-04-18T23:40:34.520993Z",
     "shell.execute_reply": "2022-04-18T23:40:34.520066Z",
     "shell.execute_reply.started": "2022-04-18T23:40:34.513800Z"
    }
   },
   "outputs": [],
   "source": [
    "data = clean_data(data)"
   ]
  },
  {
   "cell_type": "code",
   "execution_count": null,
   "metadata": {},
   "outputs": [],
   "source": [
    "train,test = split_data(data)"
   ]
  },
  {
   "cell_type": "code",
   "execution_count": null,
   "metadata": {},
   "outputs": [],
   "source": [
    "train.drop('subject#',axis=1, inplace=True)"
   ]
  },
  {
   "cell_type": "code",
   "execution_count": null,
   "metadata": {
    "scrolled": true
   },
   "outputs": [],
   "source": [
    "total_UPDRS = train['total_UPDRS']\n",
    "motor_UPDRS = train['motor_UPDRS']\n",
    "X_train = train.drop(['total_UPDRS','motor_UPDRS'],axis=1)\n",
    "\n",
    "test_total_UPDRS = test['total_UPDRS']\n",
    "test_motor_UPDRS = test['motor_UPDRS']\n",
    "X_test = test.drop(['total_UPDRS','motor_UPDRS'],axis=1)"
   ]
  },
  {
   "cell_type": "code",
   "execution_count": null,
   "metadata": {
    "scrolled": true
   },
   "outputs": [],
   "source": [
    "# subject_test = X_test['subject#']\n",
    "X_test.drop('subject#',inplace=True, axis=1)"
   ]
  },
  {
   "cell_type": "code",
   "execution_count": null,
   "metadata": {
    "scrolled": true
   },
   "outputs": [],
   "source": [
    "sns.pairplot(X_train)\n",
    "plt.savefig('Pairplot.png',bbox_inches='tight', dpi=150)"
   ]
  },
  {
   "cell_type": "code",
   "execution_count": null,
   "metadata": {},
   "outputs": [],
   "source": [
    "corr = X_train.corr()"
   ]
  },
  {
   "cell_type": "code",
   "execution_count": null,
   "metadata": {},
   "outputs": [],
   "source": [
    "plt.figure(figsize=(15,8))\n",
    "sns.heatmap(corr, cmap=\"magma_r\",annot=True,fmt='.1f')\n",
    "plt.savefig('Correlation_plot.png',bbox_inches='tight', dpi=150)"
   ]
  },
  {
   "cell_type": "markdown",
   "metadata": {},
   "source": [
    "### Feature Transformation"
   ]
  },
  {
   "cell_type": "code",
   "execution_count": null,
   "metadata": {},
   "outputs": [],
   "source": [
    "def scale_data(data,train=False):\n",
    "    if train:\n",
    "        return scaler.fit_transform(data)\n",
    "    else:\n",
    "        return scaler.transform(data)"
   ]
  },
  {
   "cell_type": "code",
   "execution_count": null,
   "metadata": {},
   "outputs": [],
   "source": [
    "cols = X_train.columns\n",
    "X_train = scale_data(X_train, train=True)\n",
    "X_test = scale_data(X_test)\n"
   ]
  },
  {
   "cell_type": "code",
   "execution_count": null,
   "metadata": {},
   "outputs": [],
   "source": [
    "pd.set_option('display.float_format', lambda x: '%.2f' % x)\n",
    "pd.DataFrame(X_train,columns =cols).describe()\n"
   ]
  },
  {
   "cell_type": "markdown",
   "metadata": {},
   "source": [
    "# Feature selection -- F test "
   ]
  },
  {
   "cell_type": "code",
   "execution_count": null,
   "metadata": {},
   "outputs": [],
   "source": [
    "from sklearn.feature_selection import SelectKBest\n",
    "from sklearn.feature_selection import f_regression\n",
    "\n",
    "def select_features_on_f_test(X_train, y_train):\n",
    "\n",
    "    f_model = SelectKBest(score_func=f_regression, k='all')\n",
    "   \n",
    "    f_model.fit(X_train, y_train)\n",
    "    \n",
    "    X_train_fs = f_model.transform(X_train)\n",
    "    \n",
    "    return X_train_fs, f_model\n",
    "\n",
    "X_train_fs_total, f_model_total = select_features_on_f_test(X_train,total_UPDRS)\n",
    "X_train_fs_motor, f_model_motor = select_features_on_f_test(X_train,motor_UPDRS)"
   ]
  },
  {
   "cell_type": "code",
   "execution_count": null,
   "metadata": {},
   "outputs": [],
   "source": [
    "feature_scores_total = sorted(list(zip(cols,f_model_total.scores_)),key=lambda x:x[1], reverse=True)\n",
    "for feature,score in feature_scores_total:\n",
    "    print(\"Importance of feature\", '\\033[1m','\\033[96m',feature,'\\033[0m',\" w.r.t Total UPDRS is: \",score)"
   ]
  },
  {
   "cell_type": "code",
   "execution_count": null,
   "metadata": {},
   "outputs": [],
   "source": [
    "plt.bar(cols,f_model_total.scores_)\n",
    "plt.xticks(rotation='vertical')\n",
    "plt.xlabel('Features')\n",
    "plt.ylabel('F-score w.r.t Total UPDRS')\n",
    "plt.savefig('F_Test_total.png',bbox_inches='tight',dpi=150)"
   ]
  },
  {
   "cell_type": "code",
   "execution_count": null,
   "metadata": {},
   "outputs": [],
   "source": [
    "feature_scores_motor = sorted(list(zip(cols,f_model_motor.scores_)),key=lambda x:x[1], reverse=True)\n",
    "for feature,score in feature_scores_motor: \n",
    "    print(\"Importance of feature\",'\\033[1m','\\033[96m', feature,'\\033[0m',\" w.r.t \\033[92m Motor UPDRS \\033[0m is: \",score)"
   ]
  },
  {
   "cell_type": "code",
   "execution_count": null,
   "metadata": {},
   "outputs": [],
   "source": [
    "plt.bar(cols,f_model_motor.scores_)\n",
    "plt.xticks(rotation='vertical')\n",
    "plt.xlabel('Features')\n",
    "plt.ylabel('F-score w.r.t Motor UPDRS')\n",
    "plt.savefig('F_Test_motor.png',bbox_inches='tight',dpi=150)"
   ]
  },
  {
   "cell_type": "markdown",
   "metadata": {},
   "source": [
    "# Feature Selection - Mutual Information "
   ]
  },
  {
   "cell_type": "code",
   "execution_count": null,
   "metadata": {},
   "outputs": [],
   "source": [
    "from sklearn.feature_selection import mutual_info_regression\n",
    "\n",
    "def select_features_on_mir(X_train, y_train):\n",
    "\n",
    "    mir_model = SelectKBest(score_func=mutual_info_regression, k='all')\n",
    "   \n",
    "    mir_model.fit(X_train, y_train)\n",
    "    \n",
    "    X_train_mir = mir_model.transform(X_train)\n",
    "    \n",
    "    return X_train_mir, mir_model\n",
    "\n",
    "X_train_mir_total, mir_model_total = select_features_on_mir(X_train,total_UPDRS)\n",
    "X_train_mir_motor, mir_model_motor = select_features_on_mir(X_train,motor_UPDRS)"
   ]
  },
  {
   "cell_type": "code",
   "execution_count": null,
   "metadata": {},
   "outputs": [],
   "source": [
    "feature_scores_motor = sorted(list(zip(cols,mir_model_motor.scores_)),key=lambda x:x[1], reverse=True)\n",
    "print('******* Mutual Information Feature Selection ********\\n')\n",
    "for feature,score in feature_scores_motor:\n",
    "    print(\"Importance of feature\",'\\033[1m','\\033[96m', feature,'\\033[0m' ,\" w.r.t \\033[95m Motor UPDRS \\033[0m is: \",score)"
   ]
  },
  {
   "cell_type": "code",
   "execution_count": null,
   "metadata": {},
   "outputs": [],
   "source": [
    "plt.bar(cols,mir_model_motor.scores_)\n",
    "plt.xticks(rotation='vertical')\n",
    "plt.xlabel('Features')\n",
    "plt.ylabel('Mutual Information-score w.r.t Motor UPDRS')\n",
    "plt.savefig('MIR_Test_motor.png',bbox_inches='tight',dpi=150)"
   ]
  },
  {
   "cell_type": "code",
   "execution_count": null,
   "metadata": {},
   "outputs": [],
   "source": [
    "feature_scores_motor = sorted(list(zip(cols,mir_model_total.scores_)),key=lambda x:x[1], reverse=True)\n",
    "for feature,score in feature_scores_motor:\n",
    "    print(\"Importance of feature\", '\\033[1m','\\033[96m', feature,'\\033[0m',\" w.r.t \\033[95m Total UPDRS \\033[0m is: \",score)"
   ]
  },
  {
   "cell_type": "code",
   "execution_count": null,
   "metadata": {},
   "outputs": [],
   "source": [
    "plt.bar(cols,mir_model_total.scores_)\n",
    "plt.xticks(rotation='vertical')\n",
    "plt.xlabel('Features')\n",
    "plt.ylabel('MIR score w.r.t Total UPDRS')\n",
    "plt.savefig('MIR_test_total.png',bbox_inches='tight',dpi=150)"
   ]
  },
  {
   "cell_type": "markdown",
   "metadata": {},
   "source": [
    "# Recursive Feature Elimination"
   ]
  },
  {
   "cell_type": "code",
   "execution_count": null,
   "metadata": {},
   "outputs": [],
   "source": [
    "from sklearn.linear_model import LinearRegression\n",
    "from sklearn.feature_selection import RFE\n",
    "from sklearn.linear_model import Ridge, Lasso, RidgeCV, LassoCV"
   ]
  },
  {
   "cell_type": "markdown",
   "metadata": {},
   "source": [
    "## RFE - Ridge Regression"
   ]
  },
  {
   "cell_type": "code",
   "execution_count": null,
   "metadata": {},
   "outputs": [],
   "source": [
    "model = Ridge()\n",
    "\n",
    "rfe = RFE(model, n_features_to_select=0.5)\n",
    "\n",
    "X_rfe = rfe.fit_transform(X_train,total_UPDRS)  \n",
    "\n",
    "model.fit(X_rfe,total_UPDRS)\n",
    "\n",
    "result_filter = [i for i, x in enumerate(rfe.support_) if x]\n",
    "rfe_columns = []\n",
    "for item in result_filter:\n",
    "    rfe_columns.append(item)\n",
    "    \n",
    "X_train_rfe_ridge = np.take(X_train,rfe_columns,axis=1)\n",
    "X_test_rfe_ridge = np.take(X_test,rfe_columns,axis=1)"
   ]
  },
  {
   "cell_type": "markdown",
   "metadata": {},
   "source": [
    "## RFE - Lasso"
   ]
  },
  {
   "cell_type": "code",
   "execution_count": null,
   "metadata": {},
   "outputs": [],
   "source": [
    "model = Lasso()\n",
    "\n",
    "rfe = RFE(model)\n",
    "X_rfe = rfe.fit_transform(X_train, total_UPDRS)  \n",
    "model.fit(X_rfe,total_UPDRS)\n",
    "\n",
    "\n",
    "result_filter = [i for i, x in enumerate(rfe.support_) if x]\n",
    "\n",
    "rfe_columns = []\n",
    "for item in result_filter:\n",
    "    rfe_columns.append(item)\n",
    "    \n",
    "X_train_rfe_lasso = np.take(X_train,rfe_columns,axis=1)\n",
    "X_test_rfe_lasso = np.take(X_test,rfe_columns,axis=1)"
   ]
  },
  {
   "cell_type": "markdown",
   "metadata": {},
   "source": [
    "## RFE - Extra Trees Regressor"
   ]
  },
  {
   "cell_type": "code",
   "execution_count": null,
   "metadata": {},
   "outputs": [],
   "source": [
    "model = ExtraTreesRegressor()\n",
    "\n",
    "rfe = RFE(model)\n",
    "X_rfe = rfe.fit_transform(X_train,total_UPDRS)  \n",
    "model.fit(X_rfe,total_UPDRS)\n",
    "\n",
    "\n",
    "result_filter = [i for i, x in enumerate(rfe.support_) if x]\n",
    "\n",
    "rfe_columns = []\n",
    "for item in result_filter:\n",
    "    rfe_columns.append(item)\n",
    "    \n",
    "X_train_rfe_xtree = np.take(X_train,rfe_columns,axis=1)\n",
    "X_test_rfe_xtree = np.take(X_test,rfe_columns,axis=1)"
   ]
  },
  {
   "cell_type": "code",
   "execution_count": null,
   "metadata": {},
   "outputs": [],
   "source": [
    "rfe.ranking_"
   ]
  },
  {
   "cell_type": "markdown",
   "metadata": {},
   "source": [
    "### Principal Component Analysis"
   ]
  },
  {
   "cell_type": "code",
   "execution_count": null,
   "metadata": {},
   "outputs": [],
   "source": [
    "pca = PCA(n_components=8)\n",
    "pca_out = pca.fit(X_train)\n",
    "print(pca_out.explained_variance_ratio_)\n",
    "pca_x = pca.transform(X_train)\n",
    "pca_xtest = pca.transform(X_test)"
   ]
  },
  {
   "cell_type": "code",
   "execution_count": null,
   "metadata": {},
   "outputs": [],
   "source": [
    "num_pc = pca_out.n_features_\n",
    "pc_list = [\"PC\"+str(i) for i in list(range(1, 8+1))]"
   ]
  },
  {
   "cell_type": "code",
   "execution_count": null,
   "metadata": {},
   "outputs": [],
   "source": [
    "plt.plot(pc_list, pca_out.explained_variance_ratio_, 'o-', linewidth=2, color='blue')\n",
    "plt.title('Scree Plot')\n",
    "plt.xlabel('Principal Component')\n",
    "plt.ylabel('Variance Explained')"
   ]
  },
  {
   "cell_type": "markdown",
   "metadata": {},
   "source": [
    "# Model Fit and Testing"
   ]
  },
  {
   "cell_type": "markdown",
   "metadata": {},
   "source": [
    "## Fit Multiple Models and select best model for Hyper parameter tuning"
   ]
  },
  {
   "cell_type": "code",
   "execution_count": null,
   "metadata": {
    "scrolled": false
   },
   "outputs": [],
   "source": [
    "models = [LinearRegression(),\n",
    "                 Lasso(),\n",
    "                 Ridge(), \n",
    "                 ElasticNet(), \n",
    "                 KNeighborsRegressor(),\n",
    "                 GradientBoostingRegressor(),\n",
    "                 ExtraTreesRegressor(),\n",
    "                 RandomForestRegressor(),\n",
    "                 DecisionTreeRegressor(),\n",
    "                 SVR(kernel='rbf',)\n",
    "                ]\n",
    "\n",
    "print(\"\\n********* Model Results on PCA Components -- Total UPDRS **********\\n\")\n",
    "for model in models:\n",
    "    \n",
    "    model.fit(pca_x, total_UPDRS)\n",
    "    y_pred = model.predict(pca_xtest)\n",
    "    \n",
    "    print(model)\n",
    "    print(\"\\tExplained variance:\", explained_variance_score(test_total_UPDRS, y_pred))\n",
    "    print(\"\\tMean absolute error:\", mean_absolute_error(test_total_UPDRS, y_pred))\n",
    "    print(\"\\tRoot Mean Square Error:\", np.sqrt(mean_squared_error(test_total_UPDRS, y_pred)))\n",
    "    print(\"\\tR2 score:\", r2_score(test_total_UPDRS, y_pred))\n",
    "    print()\n",
    "    \n",
    "\n",
    "print(\"\\n********* Model Results on Original Features -- Total UPDRS **********\\n\")    \n",
    "for model in models:\n",
    "    \n",
    "    model.fit(X_train, total_UPDRS)\n",
    "    y_pred = model.predict(X_test)\n",
    "    \n",
    "    print(model)\n",
    "    print(\"\\tExplained variance:\", explained_variance_score(test_total_UPDRS, y_pred))\n",
    "    print(\"\\tMean absolute error:\", mean_absolute_error(test_total_UPDRS, y_pred))\n",
    "    print(\"\\tRoot Mean Square Error:\", np.sqrt(mean_squared_error(test_total_UPDRS, y_pred)))\n",
    "    print(\"\\tR2 score:\", r2_score(test_total_UPDRS, y_pred))\n",
    "    print()"
   ]
  },
  {
   "cell_type": "code",
   "execution_count": null,
   "metadata": {},
   "outputs": [],
   "source": []
  },
  {
   "cell_type": "code",
   "execution_count": null,
   "metadata": {},
   "outputs": [],
   "source": [
    "print(\"\\n********* Model Results on PCA Components -- Motor UPDRS **********\\n\")\n",
    "for model in models:\n",
    "    \n",
    "    model.fit(pca_x, motor_UPDRS)\n",
    "    y_pred = model.predict(pca_xtest)\n",
    "    \n",
    "    print(model)\n",
    "    print(\"\\tExplained variance:\", explained_variance_score(test_motor_UPDRS, y_pred))\n",
    "    print(\"\\tMean absolute error:\", mean_absolute_error(test_motor_UPDRS, y_pred))\n",
    "    print(\"\\tRoot Mean Square Error:\", np.sqrt(mean_squared_error(test_motor_UPDRS, y_pred)))\n",
    "    print(\"\\tR2 score:\", r2_score(test_motor_UPDRS, y_pred))\n",
    "    print()\n",
    "    \n",
    "\n",
    "print(\"\\n********* Model Results on Original Features -- Motor UPDRS **********\\n\")    \n",
    "for model in models:\n",
    "    \n",
    "    model.fit(X_train, motor_UPDRS)\n",
    "    y_pred = model.predict(X_test)\n",
    "    \n",
    "    print(model)\n",
    "    print(\"\\tExplained variance:\", explained_variance_score(test_motor_UPDRS, y_pred))\n",
    "    print(\"\\tMean absolute error:\", mean_absolute_error(test_motor_UPDRS, y_pred))\n",
    "    print(\"\\tRoot Mean Square Error:\", np.sqrt(mean_squared_error(test_motor_UPDRS, y_pred)))\n",
    "    print(\"\\tR2 score:\", r2_score(test_motor_UPDRS, y_pred))\n",
    "    print()"
   ]
  },
  {
   "cell_type": "code",
   "execution_count": null,
   "metadata": {
    "scrolled": false
   },
   "outputs": [],
   "source": [
    "print(\"\\n********* Model Results on Feature Selection using FTest -- Motor UPDRS **********\\n\")\n",
    "for model in models:\n",
    "    \n",
    "    model.fit(X_train_fs_total, total_UPDRS)\n",
    "    y_pred = model.predict(X_test)\n",
    "    \n",
    "    print(model)\n",
    "    print(\"\\tExplained variance:\", explained_variance_score(test_total_UPDRS, y_pred))\n",
    "    print(\"\\tMean absolute error:\", mean_absolute_error(test_total_UPDRS, y_pred))\n",
    "    print(\"\\tRoot Mean Square Error:\", np.sqrt(mean_squared_error(test_total_UPDRS, y_pred)))\n",
    "    print(\"\\tR2 score:\", r2_score(test_total_UPDRS, y_pred))\n",
    "    print()\n",
    "    \n",
    "\n",
    "print(\"\\n********* Model Results on Features selected using F-test -- Motor UPDRS **********\\n\")    \n",
    "for model in models:\n",
    "    \n",
    "    model.fit(X_train_fs_motor, motor_UPDRS)\n",
    "    y_pred = model.predict(X_test)\n",
    "    \n",
    "    print(model)\n",
    "    print(\"\\tExplained variance:\", explained_variance_score(test_motor_UPDRS, y_pred))\n",
    "    print(\"\\tMean absolute error:\", mean_absolute_error(test_motor_UPDRS, y_pred))\n",
    "    print(\"\\tRoot Mean Square Error:\", np.sqrt(mean_squared_error(test_motor_UPDRS, y_pred)))\n",
    "    print(\"\\tR2 score:\", r2_score(test_motor_UPDRS, y_pred))\n",
    "    print()"
   ]
  },
  {
   "cell_type": "code",
   "execution_count": null,
   "metadata": {},
   "outputs": [],
   "source": [
    "print(\"\\n********* Model Results on Feature Selection using Mutual Information -- Total UPDRS **********\\n\")\n",
    "for model in models:\n",
    "    \n",
    "    model.fit(X_train_mir_total, total_UPDRS)\n",
    "    y_pred = model.predict(X_test)\n",
    "    \n",
    "    print(model)\n",
    "    print(\"\\tExplained variance:\", explained_variance_score(test_total_UPDRS, y_pred))\n",
    "    print(\"\\tMean absolute error:\", mean_absolute_error(test_total_UPDRS, y_pred))\n",
    "    print(\"\\tRoot Mean Square Error:\", np.sqrt(mean_squared_error(test_total_UPDRS, y_pred)))\n",
    "    print(\"\\tR2 score:\", r2_score(test_total_UPDRS, y_pred))\n",
    "    print()\n",
    "    \n",
    "\n",
    "print(\"\\n********* Model Results on Features selected using Mutual Information -- Motor UPDRS **********\\n\")    \n",
    "for model in models:\n",
    "    \n",
    "    model.fit(X_train_mir_motor, motor_UPDRS)\n",
    "    y_pred = model.predict(X_test)\n",
    "    \n",
    "    print(model)\n",
    "    print(\"\\tExplained variance:\", explained_variance_score(test_motor_UPDRS, y_pred))\n",
    "    print(\"\\tMean absolute error:\", mean_absolute_error(test_motor_UPDRS, y_pred))\n",
    "    print(\"\\tRoot Mean Square Error:\", np.sqrt(mean_squared_error(test_motor_UPDRS, y_pred)))\n",
    "    print(\"\\tR2 score:\", r2_score(test_motor_UPDRS, y_pred))\n",
    "    print()"
   ]
  },
  {
   "cell_type": "code",
   "execution_count": null,
   "metadata": {
    "scrolled": false
   },
   "outputs": [],
   "source": [
    "print(\"\\n********* Model Results on Feature Selection using RFE Extra Trees Regressor-- Total UPDRS **********\\n\")\n",
    "for model in models:\n",
    "    \n",
    "    model.fit(X_train_rfe_xtree, total_UPDRS)\n",
    "    y_pred = model.predict(X_test_rfe_xtree)\n",
    "    \n",
    "    print(model)\n",
    "    print(\"\\tExplained variance:\", explained_variance_score(test_total_UPDRS, y_pred))\n",
    "    print(\"\\tMean absolute error:\", mean_absolute_error(test_total_UPDRS, y_pred))\n",
    "    print(\"\\tRoot Mean Square Error:\", np.sqrt(mean_squared_error(test_total_UPDRS, y_pred)))\n",
    "    print(\"\\tR2 score:\", r2_score(test_total_UPDRS, y_pred))\n",
    "    print()\n",
    "    \n",
    "\n",
    "print(\"\\n********* Model Results on Features selected using RFE  Extra Trees Regressor -- Motor UPDRS **********\\n\")    \n",
    "for model in models:\n",
    "    \n",
    "    model.fit(X_train_rfe_xtree, motor_UPDRS)\n",
    "    y_pred = model.predict(X_test_rfe_xtree)\n",
    "    \n",
    "    print(model)\n",
    "    print(\"\\tExplained variance:\", explained_variance_score(test_motor_UPDRS, y_pred))\n",
    "    print(\"\\tMean absolute error:\", mean_absolute_error(test_motor_UPDRS, y_pred))\n",
    "    print(\"\\tRoot Mean Square Error:\", np.sqrt(mean_squared_error(test_motor_UPDRS, y_pred)))\n",
    "    print(\"\\tR2 score:\", r2_score(test_motor_UPDRS, y_pred))\n",
    "    print()"
   ]
  },
  {
   "cell_type": "code",
   "execution_count": null,
   "metadata": {},
   "outputs": [],
   "source": [
    "print(\"Selected Features using Recursive Feature Elimination:\\n\")\n",
    "for i in rfe_columns:\n",
    "    print(cols[i])"
   ]
  },
  {
   "cell_type": "markdown",
   "metadata": {},
   "source": [
    "### The below cell is used for plotting metrics for different models -- Replace X_train, X_test with appropriate values for the model"
   ]
  },
  {
   "cell_type": "code",
   "execution_count": null,
   "metadata": {},
   "outputs": [],
   "source": [
    "# Create a table of the results\n",
    "results = pd.DataFrame(columns=['Model', 'Explained Variance', 'Mean Absolute Error', 'Root Mean Square Error', 'R2 Score'])\n",
    "\n",
    "for model in models:\n",
    "    \n",
    "    model.fit(X_train, total_UPDRS)\n",
    "    y_pred = model.predict(X_test)\n",
    "    \n",
    "    results = results.append({'Model': model.__class__.__name__,\n",
    "                              'Explained Variance': explained_variance_score(test_total_UPDRS, y_pred),\n",
    "                              'Mean Absolute Error': mean_absolute_error(test_total_UPDRS, y_pred),\n",
    "                              'Root Mean Square Error': np.sqrt(mean_squared_error(test_total_UPDRS, y_pred)),\n",
    "                              'R2 Score': r2_score(test_total_UPDRS, y_pred)}, ignore_index=True)\n",
    "    \n",
    "def highlight_min(s):\n",
    "    is_min = s == s.min()\n",
    "    return ['background-color: yellow' if v else '' for v in is_min]\n",
    "\n",
    "\n",
    "# Plot the results\n",
    "fig, ax = plt.subplots(figsize=(10,6))\n",
    "\n",
    "# Plot the bars\n",
    "results.plot(x='Model', y=['Explained Variance', 'Mean Absolute Error', 'Root Mean Square Error', 'R2 Score'], kind='bar', ax=ax)\n",
    "\n",
    "# Set the title\n",
    "ax.set_title('Model Results on Original Features -- Total UPDRS')\n",
    "\n",
    "# Set the x-axis label\n",
    "ax.set_xlabel('Model')\n",
    "\n",
    "# Set the y-axis label\n",
    "ax.set_ylabel('Score')\n",
    "\n",
    "# Show the plot\n",
    "plt.show()\n",
    "\n",
    "# Print the results\n",
    "print(results)"
   ]
  },
  {
   "cell_type": "markdown",
   "metadata": {},
   "source": [
    "**From the above, RandomForestRegressor and ExtraTreesRegressor are performing better and it is feasible to perform hyperparameter tuning on these models**\n",
    "\n",
    "#### Run below cells only if required - Hyperparameter tuning takes lot of time to tune"
   ]
  },
  {
   "cell_type": "markdown",
   "metadata": {},
   "source": [
    "### ExtraTreesRegressor -- Total UPDRS"
   ]
  },
  {
   "cell_type": "code",
   "execution_count": null,
   "metadata": {},
   "outputs": [],
   "source": [
    "param_grid = {\n",
    "    'n_estimators': [10,50,100],\n",
    "    'criterion': ['mse', 'mae'],\n",
    "    'max_depth': [2,4,6,None],\n",
    "    'min_samples_split': [2,4,6],\n",
    "    'min_samples_leaf': [1,2],\n",
    "    'max_features': ['auto','sqrt','log2'],\n",
    "#     'warm_start':[True, False],\n",
    "    'bootstrap': [True, False]\n",
    "}\n",
    "\n",
    "grid = GridSearchCV(ExtraTreesRegressor(),param_grid)\n",
    "model = grid.fit(X_train,total_UPDRS)\n",
    "print(model.best_params_,'\\n')\n",
    "print(model.best_estimator_,'\\n')"
   ]
  },
  {
   "cell_type": "code",
   "execution_count": null,
   "metadata": {},
   "outputs": [],
   "source": [
    "y_pred = model.best_estimator_.predict(X_test)\n",
    "\n",
    "print(model)\n",
    "print(\"\\tExplained variance:\", explained_variance_score(test_total_UPDRS, y_pred))\n",
    "print(\"\\tMean absolute error:\", mean_absolute_error(test_total_UPDRS, y_pred))\n",
    "print(\"\\tRoot Mean Square Error:\", np.sqrt(mean_squared_error(test_total_UPDRS, y_pred)))\n",
    "print(\"\\tR2 score:\", r2_score(test_total_UPDRS, y_pred))\n",
    "print()"
   ]
  },
  {
   "cell_type": "markdown",
   "metadata": {},
   "source": [
    "### Random Forest  Regressor -- Total UPDRS"
   ]
  },
  {
   "cell_type": "code",
   "execution_count": null,
   "metadata": {},
   "outputs": [],
   "source": [
    "param_grid = {\n",
    "        'bootstrap': [True, False],\n",
    "        'max_depth': [2,4,6,None],\n",
    "        'max_features': ['auto', 'sqrt'],\n",
    "        'min_samples_leaf': [1, 2],\n",
    "        'min_samples_split': [2,4,6],\n",
    "        'n_estimators': [10,50,100],\n",
    "        'criterion':['mse','mae']\n",
    "}\n",
    "grid = GridSearchCV(RandomForestRegressor(),param_grid)\n",
    "model = grid.fit(X_train,total_UPDRS)\n",
    "print(model.best_params_,'\\n')\n",
    "print(model.best_estimator_,'\\n')"
   ]
  },
  {
   "cell_type": "markdown",
   "metadata": {},
   "source": [
    "## Extra Trees Regressor - Motor UPDRS"
   ]
  },
  {
   "cell_type": "code",
   "execution_count": null,
   "metadata": {},
   "outputs": [],
   "source": [
    "param_grid = {\n",
    "    'n_estimators': [10,50,100],\n",
    "    'criterion': ['mse', 'mae'],\n",
    "    'max_depth': [2,8,16,32,None],\n",
    "    'min_samples_split': [2,4,6],\n",
    "    'min_samples_leaf': [1,2],\n",
    "    'max_features': ['auto','sqrt','log2'],\n",
    "    'warm_start':[True, False],\n",
    "}\n",
    "\n",
    "grid = GridSearchCV(ExtraTreesRegressor(),param_grid)\n",
    "model = grid.fit(X_train,motor_UPDRS)\n",
    "print(model.best_params_,'\\n')\n",
    "print(model.best_estimator_,'\\n')"
   ]
  },
  {
   "cell_type": "markdown",
   "metadata": {},
   "source": [
    "## Random Forest Regressor - Motor UPDRS"
   ]
  },
  {
   "cell_type": "code",
   "execution_count": null,
   "metadata": {},
   "outputs": [],
   "source": [
    "param_grid = {\n",
    "        'bootstrap': [True, False],\n",
    "        'max_depth': [2,8,16,32,None],\n",
    "        'max_features': ['auto', 'sqrt'],\n",
    "        'min_samples_leaf': [1, 2],\n",
    "        'min_samples_split': [2,4,6],\n",
    "        'n_estimators': [10,50,100],\n",
    "        'criterion':['mse','mae']\n",
    "}\n",
    "grid = GridSearchCV(RandomForestRegressor(),param_grid)\n",
    "model = grid.fit(X_train,motor_UPDRS)\n",
    "print(model.best_params_,'\\n')\n",
    "print(model.best_estimator_,'\\n')"
   ]
  }
 ],
 "metadata": {
  "kernelspec": {
   "display_name": "Python 3 (ipykernel)",
   "language": "python",
   "name": "python3"
  },
  "language_info": {
   "codemirror_mode": {
    "name": "ipython",
    "version": 3
   },
   "file_extension": ".py",
   "mimetype": "text/x-python",
   "name": "python",
   "nbconvert_exporter": "python",
   "pygments_lexer": "ipython3",
   "version": "3.9.7"
  },
  "varInspector": {
   "cols": {
    "lenName": 16,
    "lenType": 16,
    "lenVar": 40
   },
   "kernels_config": {
    "python": {
     "delete_cmd_postfix": "",
     "delete_cmd_prefix": "del ",
     "library": "var_list.py",
     "varRefreshCmd": "print(var_dic_list())"
    },
    "r": {
     "delete_cmd_postfix": ") ",
     "delete_cmd_prefix": "rm(",
     "library": "var_list.r",
     "varRefreshCmd": "cat(var_dic_list()) "
    }
   },
   "types_to_exclude": [
    "module",
    "function",
    "builtin_function_or_method",
    "instance",
    "_Feature"
   ],
   "window_display": false
  }
 },
 "nbformat": 4,
 "nbformat_minor": 4
}
